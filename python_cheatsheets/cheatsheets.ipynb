{
 "cells": [
  {
   "cell_type": "markdown",
   "metadata": {},
   "source": [
    "## itertools Module"
   ]
  },
  {
   "cell_type": "markdown",
   "metadata": {},
   "source": [
    "#### accumulate()\n",
    "Makes an iterator that returns the results of a function. The operator.mul takes 2 numbers and multiplies them."
   ]
  },
  {
   "cell_type": "code",
   "execution_count": 2,
   "metadata": {},
   "outputs": [
    {
     "name": "stdout",
     "output_type": "stream",
     "text": [
      "1\n",
      "2\n",
      "6\n",
      "24\n",
      "120\n"
     ]
    }
   ],
   "source": [
    "import itertools, operator\n",
    "data = [1, 2, 3, 4, 5]\n",
    "res1 = itertools.accumulate(data, operator.mul) \n",
    "\n",
    "for i in res1:\n",
    "    print(i)"
   ]
  },
  {
   "cell_type": "markdown",
   "metadata": {},
   "source": [
    "Passing a function is optional. If no function is designated the items will be summed."
   ]
  },
  {
   "cell_type": "code",
   "execution_count": 4,
   "metadata": {},
   "outputs": [
    {
     "name": "stdout",
     "output_type": "stream",
     "text": [
      "5\n",
      "7\n",
      "13\n",
      "17\n",
      "22\n",
      "31\n",
      "32\n"
     ]
    }
   ],
   "source": [
    "data = [5, 2, 6, 4, 5, 9, 1]\n",
    "res2 = itertools.accumulate(data)  # Sin operador explícito \n",
    "\n",
    "for i in res2:\n",
    "    print(i)"
   ]
  },
  {
   "cell_type": "markdown",
   "metadata": {},
   "source": [
    "#### combinations()\n",
    "Takes an iterable and a integer. This will create all the unique combination that have r members."
   ]
  },
  {
   "cell_type": "code",
   "execution_count": 4,
   "metadata": {},
   "outputs": [
    {
     "name": "stdout",
     "output_type": "stream",
     "text": [
      "('diego', 'cuenca')\n",
      "('diego', 'quezada')\n",
      "('diego', 'paul')\n",
      "('cuenca', 'quezada')\n",
      "('cuenca', 'paul')\n",
      "('quezada', 'paul')\n"
     ]
    }
   ],
   "source": [
    "myName = ['diego','cuenca','quezada','paul']\n",
    "res3 = itertools.combinations(myName, 2)\n",
    "\n",
    "for i in res3:\n",
    "    print(i)"
   ]
  },
  {
   "cell_type": "markdown",
   "metadata": {},
   "source": [
    "#### combinations_with_replacement()\n",
    "Just like combinations(), but allows individual elements to be repeated more than once."
   ]
  },
  {
   "cell_type": "code",
   "execution_count": 8,
   "metadata": {},
   "outputs": [
    {
     "name": "stdout",
     "output_type": "stream",
     "text": [
      "('diego', 'diego')\n",
      "('diego', 'cuenca')\n",
      "('diego', 'quezada')\n",
      "('diego', 'paul')\n",
      "('cuenca', 'cuenca')\n",
      "('cuenca', 'quezada')\n",
      "('cuenca', 'paul')\n",
      "('quezada', 'quezada')\n",
      "('quezada', 'paul')\n",
      "('paul', 'paul')\n"
     ]
    }
   ],
   "source": [
    "res4 = itertools.combinations_with_replacement(myName, 2)\n",
    "\n",
    "for i in res4:\n",
    "    print(i)"
   ]
  },
  {
   "cell_type": "markdown",
   "metadata": {},
   "source": [
    "#### count()\n",
    "Makes an iterator that returns evenly spaced values starting with number start"
   ]
  },
  {
   "cell_type": "code",
   "execution_count": 9,
   "metadata": {},
   "outputs": [
    {
     "name": "stdout",
     "output_type": "stream",
     "text": [
      "10\n",
      "13\n",
      "16\n",
      "19\n",
      "22\n",
      "25\n",
      "28\n"
     ]
    }
   ],
   "source": [
    "for i in itertools.count(10, 3):\n",
    "    print(i)\n",
    "    if i > 25:\n",
    "        break"
   ]
  },
  {
   "cell_type": "markdown",
   "metadata": {},
   "source": [
    "#### cycle()\n",
    "This function cycles through an iterator endlessly. When reached the end of the iterable it start over again from the beginning."
   ]
  },
  {
   "cell_type": "code",
   "execution_count": null,
   "metadata": {},
   "outputs": [],
   "source": [
    "colors = ['red', 'orange', 'yellow', 'green', 'blue', 'violet']\n",
    "for color in itertools.cycle(colors):  # Ciclo infinito\n",
    "    print(color)"
   ]
  },
  {
   "cell_type": "markdown",
   "metadata": {},
   "source": [
    "#### chain()\n",
    "Take a series of iterables and return them as one long iterable"
   ]
  },
  {
   "cell_type": "code",
   "execution_count": 12,
   "metadata": {},
   "outputs": [
    {
     "name": "stdout",
     "output_type": "stream",
     "text": [
      "red\n",
      "orange\n",
      "yellow\n",
      "green\n",
      "blue\n",
      "violet\n",
      "circle\n",
      "triangle\n",
      "square\n",
      "pentagon\n"
     ]
    }
   ],
   "source": [
    "shapes = ['circle', 'triangle', 'square', 'pentagon']\n",
    "res5 = itertools.chain(colors, shapes)\n",
    "\n",
    "for i in res5:\n",
    "    print(i)"
   ]
  },
  {
   "cell_type": "markdown",
   "metadata": {},
   "source": [
    "#### compress()\n",
    "Filters one iterable with another"
   ]
  },
  {
   "cell_type": "code",
   "execution_count": 3,
   "metadata": {},
   "outputs": [
    {
     "name": "stdout",
     "output_type": "stream",
     "text": [
      "circle\n",
      "square\n",
      "pentagon\n"
     ]
    }
   ],
   "source": [
    "shp = ['circle', 'triangle', 'square', 'pentagon']\n",
    "sel = [True, False, True, True]\n",
    "\n",
    "res6 = itertools.compress(shp, sel)\n",
    "\n",
    "for i in res6:\n",
    "    print(i)"
   ]
  },
  {
   "cell_type": "markdown",
   "metadata": {},
   "source": [
    "## Comprehensions\n",
    "#### List comprehension"
   ]
  },
  {
   "cell_type": "code",
   "execution_count": 13,
   "metadata": {},
   "outputs": [
    {
     "name": "stdout",
     "output_type": "stream",
     "text": [
      "[0, 2, 4, 6, 8, 10]\n"
     ]
    }
   ],
   "source": [
    "a = [1,3,5,7,9,11]\n",
    "print([i - 1 for i in a])"
   ]
  },
  {
   "cell_type": "markdown",
   "metadata": {},
   "source": [
    "#### Set comprehension"
   ]
  },
  {
   "cell_type": "code",
   "execution_count": 14,
   "metadata": {},
   "outputs": [
    {
     "name": "stdout",
     "output_type": "stream",
     "text": [
      "{'DEF', 'ABC'}\n"
     ]
    }
   ],
   "source": [
    "b = set(['abc', 'def'])\n",
    "print({s.upper() for s in b})"
   ]
  },
  {
   "cell_type": "markdown",
   "metadata": {},
   "source": [
    "#### Dict comprehension"
   ]
  },
  {
   "cell_type": "code",
   "execution_count": 15,
   "metadata": {},
   "outputs": [
    {
     "name": "stdout",
     "output_type": "stream",
     "text": [
      "{'Diego': 'name', 29: 'age'}\n"
     ]
    }
   ],
   "source": [
    "c = {'name': 'Diego', 'age': 29}\n",
    "print({v: k for k, v in c.items()})"
   ]
  },
  {
   "cell_type": "markdown",
   "metadata": {},
   "source": [
    "## Manipulating String\n",
    "#### Escape Characters"
   ]
  },
  {
   "cell_type": "code",
   "execution_count": 7,
   "metadata": {},
   "outputs": [
    {
     "name": "stdout",
     "output_type": "stream",
     "text": [
      "Hello there! I'm Diego.\n",
      "How are you?\tI'm doing fine.\n",
      "\"Bye bye\"\n",
      "It's backslash -> \\\n"
     ]
    }
   ],
   "source": [
    "print('Hello there! I\\'m Diego.\\nHow are you?\\tI\\'m doing fine.\\n\\\"Bye bye\\\"\\nIt\\'s backslash -> \\\\')"
   ]
  },
  {
   "cell_type": "markdown",
   "metadata": {},
   "source": [
    "#### Raw Strings\n",
    "A raw string completely ignores all escape characters and print any _backslash_ that appears in the string"
   ]
  },
  {
   "cell_type": "code",
   "execution_count": 9,
   "metadata": {},
   "outputs": [
    {
     "name": "stdout",
     "output_type": "stream",
     "text": [
      "That is Malena\\'s cat.\n"
     ]
    }
   ],
   "source": [
    "print(r'That is Malena\\'s cat.')"
   ]
  },
  {
   "cell_type": "markdown",
   "metadata": {},
   "source": [
    "#### Indexing and Slicing Strings"
   ]
  },
  {
   "cell_type": "code",
   "execution_count": 17,
   "metadata": {},
   "outputs": [
    {
     "name": "stdout",
     "output_type": "stream",
     "text": [
      "c\n",
      "Diego\n",
      "acneuC ogeiD\n",
      "True\n"
     ]
    }
   ],
   "source": [
    "cad = 'Diego Cuenca'\n",
    "print(cad[-2])\n",
    "print(cad[0:5])\n",
    "print(cad[::-1])\n",
    "print('' in cad)"
   ]
  }
 ],
 "metadata": {
  "interpreter": {
   "hash": "6c68c24c9f6dc6214c1cb1fe145e14906af977bf87c30f07fe886d1925d8ed5f"
  },
  "kernelspec": {
   "display_name": "Python 3.8.6 64-bit",
   "language": "python",
   "name": "python3"
  },
  "language_info": {
   "codemirror_mode": {
    "name": "ipython",
    "version": 3
   },
   "file_extension": ".py",
   "mimetype": "text/x-python",
   "name": "python",
   "nbconvert_exporter": "python",
   "pygments_lexer": "ipython3",
   "version": "3.8.8"
  },
  "orig_nbformat": 4
 },
 "nbformat": 4,
 "nbformat_minor": 2
}
